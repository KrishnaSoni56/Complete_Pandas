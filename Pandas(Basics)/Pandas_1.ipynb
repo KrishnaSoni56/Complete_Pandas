{
 "cells": [
  {
   "cell_type": "code",
   "execution_count": 1,
   "id": "b06bce4b",
   "metadata": {},
   "outputs": [
    {
     "data": {
      "text/html": [
       "<div>\n",
       "<style scoped>\n",
       "    .dataframe tbody tr th:only-of-type {\n",
       "        vertical-align: middle;\n",
       "    }\n",
       "\n",
       "    .dataframe tbody tr th {\n",
       "        vertical-align: top;\n",
       "    }\n",
       "\n",
       "    .dataframe thead th {\n",
       "        text-align: right;\n",
       "    }\n",
       "</style>\n",
       "<table border=\"1\" class=\"dataframe\">\n",
       "  <thead>\n",
       "    <tr style=\"text-align: right;\">\n",
       "      <th></th>\n",
       "      <th>Emp_id</th>\n",
       "      <th>Emp_name</th>\n",
       "      <th>Dept_Name</th>\n",
       "      <th>Working_Hours</th>\n",
       "      <th>Salary</th>\n",
       "    </tr>\n",
       "  </thead>\n",
       "  <tbody>\n",
       "    <tr>\n",
       "      <th>0</th>\n",
       "      <td>1</td>\n",
       "      <td>Sam</td>\n",
       "      <td>IT</td>\n",
       "      <td>8</td>\n",
       "      <td>34000</td>\n",
       "    </tr>\n",
       "    <tr>\n",
       "      <th>1</th>\n",
       "      <td>2</td>\n",
       "      <td>Rohan</td>\n",
       "      <td>Operations</td>\n",
       "      <td>7</td>\n",
       "      <td>56000</td>\n",
       "    </tr>\n",
       "    <tr>\n",
       "      <th>2</th>\n",
       "      <td>3</td>\n",
       "      <td>Soham</td>\n",
       "      <td>Sales</td>\n",
       "      <td>6</td>\n",
       "      <td>45000</td>\n",
       "    </tr>\n",
       "    <tr>\n",
       "      <th>3</th>\n",
       "      <td>4</td>\n",
       "      <td>Priya</td>\n",
       "      <td>IT</td>\n",
       "      <td>7</td>\n",
       "      <td>23000</td>\n",
       "    </tr>\n",
       "    <tr>\n",
       "      <th>4</th>\n",
       "      <td>5</td>\n",
       "      <td>Sam</td>\n",
       "      <td>Sales</td>\n",
       "      <td>8</td>\n",
       "      <td>10000</td>\n",
       "    </tr>\n",
       "    <tr>\n",
       "      <th>5</th>\n",
       "      <td>6</td>\n",
       "      <td>Aditya</td>\n",
       "      <td>HR</td>\n",
       "      <td>9</td>\n",
       "      <td>30000</td>\n",
       "    </tr>\n",
       "    <tr>\n",
       "      <th>6</th>\n",
       "      <td>7</td>\n",
       "      <td>Priya</td>\n",
       "      <td>HR</td>\n",
       "      <td>12</td>\n",
       "      <td>24000</td>\n",
       "    </tr>\n",
       "    <tr>\n",
       "      <th>7</th>\n",
       "      <td>8</td>\n",
       "      <td>Mohit</td>\n",
       "      <td>IT</td>\n",
       "      <td>10</td>\n",
       "      <td>33000</td>\n",
       "    </tr>\n",
       "    <tr>\n",
       "      <th>8</th>\n",
       "      <td>9</td>\n",
       "      <td>KK</td>\n",
       "      <td>IT</td>\n",
       "      <td>6</td>\n",
       "      <td>67000</td>\n",
       "    </tr>\n",
       "  </tbody>\n",
       "</table>\n",
       "</div>"
      ],
      "text/plain": [
       "   Emp_id Emp_name   Dept_Name  Working_Hours  Salary\n",
       "0       1      Sam          IT              8   34000\n",
       "1       2    Rohan  Operations              7   56000\n",
       "2       3    Soham       Sales              6   45000\n",
       "3       4    Priya          IT              7   23000\n",
       "4       5      Sam       Sales              8   10000\n",
       "5       6   Aditya          HR              9   30000\n",
       "6       7    Priya          HR             12   24000\n",
       "7       8    Mohit          IT             10   33000\n",
       "8       9       KK          IT              6   67000"
      ]
     },
     "execution_count": 1,
     "metadata": {},
     "output_type": "execute_result"
    }
   ],
   "source": [
    "import pandas as pd\n",
    "a = {\n",
    "    \"Emp_id\" :[1,2,3,4,5,6,7,8,9],\n",
    "    \"Emp_name\" :[\"Sam\",\"Rohan\",\"Soham\",\"Priya\",\"Sam\",\"Aditya\",\"Priya\",\"Mohit\",\"KK\"] ,\n",
    "    \"Dept_Name\" : [\"IT\",\"Operations\",\"Sales\",\"IT\",\"Sales\",\"HR\",\"HR\",\"IT\",\"IT\"],\n",
    "    \"Working_Hours\" : [8,7,6,7,8,9,12,10,6] ,\n",
    "    \"Salary\" : [34000 , 56000 , 45000,23000,10000,30000,24000,33000 , 67000]\n",
    "}\n",
    "\n",
    "df = pd.DataFrame(a)\n",
    "df"
   ]
  },
  {
   "cell_type": "code",
   "execution_count": 2,
   "id": "199dc32d",
   "metadata": {},
   "outputs": [
    {
     "data": {
      "text/plain": [
       "Dept_Name\n",
       "HR             54000\n",
       "IT            157000\n",
       "Operations     56000\n",
       "Sales          55000\n",
       "Name: Salary, dtype: int64"
      ]
     },
     "execution_count": 2,
     "metadata": {},
     "output_type": "execute_result"
    }
   ],
   "source": [
    "df.groupby('Dept_Name')['Salary'].sum()"
   ]
  },
  {
   "cell_type": "code",
   "execution_count": 3,
   "id": "15d1d895",
   "metadata": {},
   "outputs": [
    {
     "data": {
      "text/plain": [
       "IT            4\n",
       "Sales         2\n",
       "HR            2\n",
       "Operations    1\n",
       "Name: Dept_Name, dtype: int64"
      ]
     },
     "execution_count": 3,
     "metadata": {},
     "output_type": "execute_result"
    }
   ],
   "source": [
    "df['Dept_Name'].value_counts()"
   ]
  },
  {
   "cell_type": "code",
   "execution_count": null,
   "id": "ca207237",
   "metadata": {},
   "outputs": [],
   "source": [
    " "
   ]
  },
  {
   "cell_type": "code",
   "execution_count": 4,
   "id": "a390c657",
   "metadata": {},
   "outputs": [
    {
     "name": "stdout",
     "output_type": "stream",
     "text": [
      "   Emp_id Emp_name Dept_Name  Working_Hours  Salary\n",
      "0       1      Sam        IT              8   34000\n",
      "3       4    Priya        IT              7   23000\n",
      "7       8    Mohit        IT             10   33000\n",
      "8       9       KK        IT              6   67000\n",
      "Average salary of the IT department: 33500.0\n"
     ]
    }
   ],
   "source": [
    "import numpy as np\n",
    "import pandas as pd\n",
    "it_df = df[df['Dept_Name'] == 'IT']\n",
    "print(it_df)\n",
    "average_salary = np.median(it_df['Salary'])\n",
    "print(\"Average salary of the IT department:\", average_salary)"
   ]
  },
  {
   "cell_type": "code",
   "execution_count": 7,
   "id": "f4a2e7db",
   "metadata": {},
   "outputs": [
    {
     "name": "stdout",
     "output_type": "stream",
     "text": [
      "Average salary of the IT department: 157000\n"
     ]
    }
   ],
   "source": [
    "average_salary = np.sum(it_df['Salary'])\n",
    "print(\"Average salary of the IT department:\", average_salary)"
   ]
  },
  {
   "cell_type": "code",
   "execution_count": 8,
   "id": "5abed2ef",
   "metadata": {},
   "outputs": [
    {
     "name": "stdout",
     "output_type": "stream",
     "text": [
      "Average salary of the IT department: 39250.0\n"
     ]
    }
   ],
   "source": [
    "average_salary = np.mean(it_df['Salary'])\n",
    "print(\"Average salary of the IT department:\", average_salary)"
   ]
  },
  {
   "cell_type": "code",
   "execution_count": null,
   "id": "4208ec73",
   "metadata": {},
   "outputs": [],
   "source": []
  },
  {
   "cell_type": "code",
   "execution_count": null,
   "id": "fa984510",
   "metadata": {},
   "outputs": [],
   "source": []
  }
 ],
 "metadata": {
  "kernelspec": {
   "display_name": "Python 3 (ipykernel)",
   "language": "python",
   "name": "python3"
  },
  "language_info": {
   "codemirror_mode": {
    "name": "ipython",
    "version": 3
   },
   "file_extension": ".py",
   "mimetype": "text/x-python",
   "name": "python",
   "nbconvert_exporter": "python",
   "pygments_lexer": "ipython3",
   "version": "3.10.9"
  }
 },
 "nbformat": 4,
 "nbformat_minor": 5
}
